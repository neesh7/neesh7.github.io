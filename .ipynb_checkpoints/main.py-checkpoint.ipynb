{
 "cells": [
  {
   "cell_type": "code",
   "execution_count": 50,
   "id": "a2d15b0b",
   "metadata": {},
   "outputs": [],
   "source": [
    "import os \n",
    "import openai\n",
    "from git import Repo # to use git inside python\n",
    "from pathlib import Path # to set paths properly "
   ]
  },
  {
   "cell_type": "code",
   "execution_count": 51,
   "id": "89efbcd5",
   "metadata": {},
   "outputs": [
    {
     "data": {
      "text/plain": [
       "'D:\\\\OpenAI\\\\05-Automatic Blog Post\\\\neesh7.github.io'"
      ]
     },
     "execution_count": 51,
     "metadata": {},
     "output_type": "execute_result"
    }
   ],
   "source": [
    "pwd"
   ]
  },
  {
   "cell_type": "code",
   "execution_count": 52,
   "id": "77445ef8",
   "metadata": {},
   "outputs": [],
   "source": [
    "Path_to_Blog_Repo = Path(\"D:\\\\OpenAI\\\\05-Automatic Blog Post\\\\neesh7.github.io\\\\.git\")"
   ]
  },
  {
   "cell_type": "code",
   "execution_count": 53,
   "id": "d77e362d",
   "metadata": {},
   "outputs": [],
   "source": [
    "# Path were index.html sits\n",
    "Path_to_Blog = Path_to_Blog_Repo.parent"
   ]
  },
  {
   "cell_type": "code",
   "execution_count": 54,
   "id": "bd04b077",
   "metadata": {},
   "outputs": [],
   "source": [
    "#folder where we are going to create blog post will be content \n",
    "Path_to_Content = Path_to_Blog/\"content\""
   ]
  },
  {
   "cell_type": "code",
   "execution_count": 55,
   "id": "936743cc",
   "metadata": {},
   "outputs": [
    {
     "data": {
      "text/plain": [
       "WindowsPath('D:/OpenAI/05-Automatic Blog Post/neesh7.github.io/content')"
      ]
     },
     "execution_count": 55,
     "metadata": {},
     "output_type": "execute_result"
    }
   ],
   "source": [
    "Path_to_Content"
   ]
  },
  {
   "cell_type": "code",
   "execution_count": 56,
   "id": "88da111e",
   "metadata": {},
   "outputs": [],
   "source": [
    "#creating that content folder \n",
    "Path_to_Content.mkdir(exist_ok =True, parents=True)"
   ]
  },
  {
   "cell_type": "code",
   "execution_count": 57,
   "id": "f851b9b5",
   "metadata": {},
   "outputs": [],
   "source": [
    "# updating the blog function\n",
    "def update_blog(commit_message = 'Updates blog'):\n",
    "    # Gitpython Repo location\n",
    "    repo = Repo(Path_to_Blog_Repo)\n",
    "    #git add\n",
    "    repo.git.add(all=True)\n",
    "    #git commit -m \"Update blog\"\n",
    "    repo.index.commit(commit_message)\n",
    "    #git push \n",
    "    origin = repo.remote(name= 'origin')\n",
    "    origin.push()"
   ]
  },
  {
   "cell_type": "code",
   "execution_count": 58,
   "id": "cddd1749",
   "metadata": {},
   "outputs": [],
   "source": [
    "html_string = \"\"\"<!DOCTYPE html>\n",
    "<html>\n",
    "\n",
    "    <head>\n",
    "        <title>My Blog</title>\n",
    "    </head>\n",
    "\n",
    "    <body>\n",
    "        <h1>My Blog</h1>\n",
    "        <a href=\"index.html\">Home</a>\n",
    "\n",
    "    </body>\n",
    "    \n",
    "</html>\"\"\""
   ]
  },
  {
   "cell_type": "code",
   "execution_count": 59,
   "id": "f3ff8627",
   "metadata": {},
   "outputs": [],
   "source": [
    "#opening index.html file and updating it with html_string\n",
    "with open(Path_to_Blog/\"index.html\",'w') as f:\n",
    "    f.write(html_string)"
   ]
  },
  {
   "cell_type": "code",
   "execution_count": 60,
   "id": "1d6b02dd",
   "metadata": {},
   "outputs": [],
   "source": [
    "update_blog(\"This is my third commit\")"
   ]
  },
  {
   "cell_type": "code",
   "execution_count": 61,
   "id": "80e67094",
   "metadata": {},
   "outputs": [],
   "source": [
    "import shutil\n",
    "\n",
    "def create_new_blog(title,content, cover_image):\n",
    "    cover_image = Path(cover_image)\n",
    "    \n",
    "    # getting the number of html files in the location\n",
    "    files = len(list(Path_to_Content.glob(\"*.html\")))\n",
    "    \n",
    "    # 1.html or 2.html so on below line will create something name like this\n",
    "    new_title = f\"{files+1}.html\"\n",
    "    path_to_new_content = Path_to_Content/new_title\n",
    "    \n",
    "    shutil.copy(cover_image, Path_to_Content)\n",
    "    \n",
    "    if not os.path.exists(path_to_new_content):\n",
    "        #Write a new html file\n",
    "        with open(path_to_new_content, \"w\") as f:\n",
    "            f.write(\"<!DOCTYPE html>\\n\")\n",
    "            f.write(\"<html>\\n\")\n",
    "            f.write(\"<head>\\n\")\n",
    "            f.write(f\"<title> {title} </title>\\n\")\n",
    "            f.write(\"</head>\\n\")\n",
    "            \n",
    "            f.write(\"<body>\\n\")\n",
    "            f.write(f\"<img src='{cover_image.name}' alt='Cover Image'> <br />\\n\")\n",
    "            f.write(f\"<h1> {title} </h1>\")\n",
    "            # OpenAI --> Completion GPT --> \"hello\\nblogpost\\n\" so we want take this response and convert \\n into line breaks as this is html\n",
    "            f.write(content.replace(\"\\n\", \"<br />\\n\"))\n",
    "            f.write(\"</body>\\n\")\n",
    "            f.write(\"</html>\\n\")\n",
    "            print(\"Blog created\")\n",
    "            return path_to_new_content\n",
    "        \n",
    "    else:\n",
    "        raise FileExistsError(\"File already exists, please check again your name! Aborting!\")\n",
    "        \n",
    "        \n",
    "        \n",
    "        \n",
    "        \n",
    "        \n",
    "    \n",
    "    \n",
    "    \n",
    "    "
   ]
  },
  {
   "cell_type": "code",
   "execution_count": 62,
   "id": "1ae13938",
   "metadata": {},
   "outputs": [
    {
     "name": "stdout",
     "output_type": "stream",
     "text": [
      "Blog created\n"
     ]
    }
   ],
   "source": [
    "# checking if the above logic works\n",
    "path_to_new_content = create_new_blog('Groot','I am Grooooooooot !!!!', 'groot.png')"
   ]
  },
  {
   "cell_type": "code",
   "execution_count": 63,
   "id": "fa6feeea",
   "metadata": {},
   "outputs": [],
   "source": [
    "update_blog(\"This is my third commit\")"
   ]
  },
  {
   "cell_type": "code",
   "execution_count": 64,
   "id": "ec73dca1",
   "metadata": {},
   "outputs": [],
   "source": [
    "#Index.html to have all list of blog posts\n",
    "\n",
    "from bs4 import BeautifulSoup as Soup\n",
    "\n",
    "\n",
    "with open(Path_to_Blog/\"index.html\") as index:\n",
    "    soup = Soup(index.read())\n",
    "\n"
   ]
  },
  {
   "cell_type": "code",
   "execution_count": 65,
   "id": "aa6fd4fc",
   "metadata": {},
   "outputs": [
    {
     "data": {
      "text/plain": [
       "'<!DOCTYPE html>\\n<html>\\n<head>\\n<title>My Blog</title>\\n</head>\\n<body>\\n<h1>My Blog</h1>\\n<a href=\"index.html\">Home</a>\\n</body>\\n</html>'"
      ]
     },
     "execution_count": 65,
     "metadata": {},
     "output_type": "execute_result"
    }
   ],
   "source": [
    "str(soup)"
   ]
  },
  {
   "cell_type": "code",
   "execution_count": 66,
   "id": "505bcf33",
   "metadata": {},
   "outputs": [],
   "source": [
    "# saftey check to check if there is no duplicates\n",
    "def check_for_duplicate_links(path_to_new_content, links):\n",
    "    urls = [str(link.get(\"href\")) for link in links]\n",
    "    content_path = str(Path(*path_to_new_content.parts[-2:]))\n",
    "    return content_path in urls"
   ]
  },
  {
   "cell_type": "code",
   "execution_count": 69,
   "id": "b13847ee",
   "metadata": {},
   "outputs": [],
   "source": [
    "def write_to_index(path_to_new_content):\n",
    "    with open(Path_to_Blog/\"index.html\") as index:\n",
    "        soup = Soup(index.read())\n",
    "\n",
    "    links = soup.find_all(\"a\")\n",
    "    last_link = links[-1]\n",
    "    \n",
    "    if check_for_duplicate_links(path_to_new_content, links):\n",
    "        raise ValueError(\"Link does already exist!\")\n",
    "        \n",
    "    link_to_new_blog = soup.new_tag(\"a\", href=Path(*path_to_new_content.parts[-2:]))\n",
    "    link_to_new_blog.string = path_to_new_content.name.split(\".\")[0]\n",
    "    last_link.insert_after(link_to_new_blog)\n",
    "    \n",
    "    with open(PATH_TO_BLOG/\"index.html\", \"w\") as f:\n",
    "        f.write(str(soup.prettify(formatter='html')))"
   ]
  },
  {
   "cell_type": "code",
   "execution_count": 70,
   "id": "96d6bacb",
   "metadata": {
    "scrolled": true
   },
   "outputs": [
    {
     "ename": "NameError",
     "evalue": "name 'PATH_TO_BLOG' is not defined",
     "output_type": "error",
     "traceback": [
      "\u001b[1;31m---------------------------------------------------------------------------\u001b[0m",
      "\u001b[1;31mNameError\u001b[0m                                 Traceback (most recent call last)",
      "\u001b[1;32m<ipython-input-70-3c2a685a7a77>\u001b[0m in \u001b[0;36m<module>\u001b[1;34m\u001b[0m\n\u001b[1;32m----> 1\u001b[1;33m \u001b[0mwrite_to_index\u001b[0m\u001b[1;33m(\u001b[0m\u001b[0mpath_to_new_content\u001b[0m\u001b[1;33m)\u001b[0m\u001b[1;33m\u001b[0m\u001b[1;33m\u001b[0m\u001b[0m\n\u001b[0m",
      "\u001b[1;32m<ipython-input-69-489e4a62cf3f>\u001b[0m in \u001b[0;36mwrite_to_index\u001b[1;34m(path_to_new_content)\u001b[0m\n\u001b[0;32m     13\u001b[0m     \u001b[0mlast_link\u001b[0m\u001b[1;33m.\u001b[0m\u001b[0minsert_after\u001b[0m\u001b[1;33m(\u001b[0m\u001b[0mlink_to_new_blog\u001b[0m\u001b[1;33m)\u001b[0m\u001b[1;33m\u001b[0m\u001b[1;33m\u001b[0m\u001b[0m\n\u001b[0;32m     14\u001b[0m \u001b[1;33m\u001b[0m\u001b[0m\n\u001b[1;32m---> 15\u001b[1;33m     \u001b[1;32mwith\u001b[0m \u001b[0mopen\u001b[0m\u001b[1;33m(\u001b[0m\u001b[0mPATH_TO_BLOG\u001b[0m\u001b[1;33m/\u001b[0m\u001b[1;34m\"index.html\"\u001b[0m\u001b[1;33m,\u001b[0m \u001b[1;34m\"w\"\u001b[0m\u001b[1;33m)\u001b[0m \u001b[1;32mas\u001b[0m \u001b[0mf\u001b[0m\u001b[1;33m:\u001b[0m\u001b[1;33m\u001b[0m\u001b[1;33m\u001b[0m\u001b[0m\n\u001b[0m\u001b[0;32m     16\u001b[0m         \u001b[0mf\u001b[0m\u001b[1;33m.\u001b[0m\u001b[0mwrite\u001b[0m\u001b[1;33m(\u001b[0m\u001b[0mstr\u001b[0m\u001b[1;33m(\u001b[0m\u001b[0msoup\u001b[0m\u001b[1;33m.\u001b[0m\u001b[0mprettify\u001b[0m\u001b[1;33m(\u001b[0m\u001b[0mformatter\u001b[0m\u001b[1;33m=\u001b[0m\u001b[1;34m'html'\u001b[0m\u001b[1;33m)\u001b[0m\u001b[1;33m)\u001b[0m\u001b[1;33m)\u001b[0m\u001b[1;33m\u001b[0m\u001b[1;33m\u001b[0m\u001b[0m\n",
      "\u001b[1;31mNameError\u001b[0m: name 'PATH_TO_BLOG' is not defined"
     ]
    }
   ],
   "source": [
    "write_to_index(path_to_new_content)"
   ]
  },
  {
   "cell_type": "code",
   "execution_count": null,
   "id": "0d34bdfd",
   "metadata": {},
   "outputs": [],
   "source": []
  },
  {
   "cell_type": "code",
   "execution_count": null,
   "id": "119f8357",
   "metadata": {},
   "outputs": [],
   "source": []
  }
 ],
 "metadata": {
  "kernelspec": {
   "display_name": "Python 3",
   "language": "python",
   "name": "python3"
  },
  "language_info": {
   "codemirror_mode": {
    "name": "ipython",
    "version": 3
   },
   "file_extension": ".py",
   "mimetype": "text/x-python",
   "name": "python",
   "nbconvert_exporter": "python",
   "pygments_lexer": "ipython3",
   "version": "3.8.8"
  }
 },
 "nbformat": 4,
 "nbformat_minor": 5
}
