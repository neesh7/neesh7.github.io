{
 "cells": [
  {
   "cell_type": "code",
   "execution_count": 2,
   "id": "19de9e30",
   "metadata": {},
   "outputs": [],
   "source": [
    "import os \n",
    "import openai\n",
    "from git import Repo # to use git inside python\n",
    "from pathlib import Path # to set paths properly "
   ]
  },
  {
   "cell_type": "code",
   "execution_count": 3,
   "id": "32d11a77",
   "metadata": {},
   "outputs": [
    {
     "data": {
      "text/plain": [
       "'D:\\\\OpenAI\\\\05-Automatic Blog Post\\\\neesh7.github.io'"
      ]
     },
     "execution_count": 3,
     "metadata": {},
     "output_type": "execute_result"
    }
   ],
   "source": [
    "pwd"
   ]
  },
  {
   "cell_type": "code",
   "execution_count": 8,
   "id": "1afa4542",
   "metadata": {},
   "outputs": [],
   "source": [
    "Path_to_Blog_Repo = Path(\"D:\\\\OpenAI\\\\05-Automatic Blog Post\\\\neesh7.github.io\\\\.git\")"
   ]
  },
  {
   "cell_type": "code",
   "execution_count": 9,
   "id": "f17d921e",
   "metadata": {},
   "outputs": [],
   "source": [
    "# Path were index.html sits\n",
    "Path_to_Blog = Path_to_Blog_Repo.parent"
   ]
  },
  {
   "cell_type": "code",
   "execution_count": 10,
   "id": "1745d40f",
   "metadata": {},
   "outputs": [],
   "source": [
    "#folder where we are going to create blog post will be content \n",
    "Path_to_Content = Path_to_Blog/\"content\""
   ]
  },
  {
   "cell_type": "code",
   "execution_count": 11,
   "id": "20979ca5",
   "metadata": {},
   "outputs": [
    {
     "data": {
      "text/plain": [
       "WindowsPath('D:/OpenAI/05-Automatic Blog Post/neesh7.github.io/content')"
      ]
     },
     "execution_count": 11,
     "metadata": {},
     "output_type": "execute_result"
    }
   ],
   "source": [
    "Path_to_Content"
   ]
  },
  {
   "cell_type": "code",
   "execution_count": 12,
   "id": "555c6bd4",
   "metadata": {},
   "outputs": [],
   "source": [
    "#creating that content folder \n",
    "Path_to_Content.mkdir(exist_ok =True, parents=True)"
   ]
  },
  {
   "cell_type": "code",
   "execution_count": 19,
   "id": "70e066a3",
   "metadata": {},
   "outputs": [],
   "source": [
    "# updating the blog function\n",
    "def update_blog(commit_message = 'Updates blog'):\n",
    "    # Gitpython Repo location\n",
    "    repo = Repo(Path_to_Blog_Repo)\n",
    "    #git add\n",
    "    repo.git.add(all=True)\n",
    "    #git commit -m \"Update blog\"\n",
    "    repo.index.commit(commit_message)\n",
    "    #git push \n",
    "    origin = repo.remote(name= 'origin')\n",
    "    origin.push()"
   ]
  },
  {
   "cell_type": "code",
   "execution_count": 20,
   "id": "1091df51",
   "metadata": {},
   "outputs": [],
   "source": [
    "html_string = \"<h1>I am groot groot !</h1>\""
   ]
  },
  {
   "cell_type": "code",
   "execution_count": 21,
   "id": "1cfd4f89",
   "metadata": {},
   "outputs": [],
   "source": [
    "#opening index.html file and updating it with html_string\n",
    "with open(Path_to_Blog/\"index.html\",'w') as f:\n",
    "    f.write(html_string)"
   ]
  },
  {
   "cell_type": "code",
   "execution_count": 22,
   "id": "654f3ada",
   "metadata": {},
   "outputs": [],
   "source": [
    "update_blog(\"This is my second commit\")"
   ]
  },
  {
   "cell_type": "code",
   "execution_count": null,
   "id": "e338a422",
   "metadata": {},
   "outputs": [],
   "source": [
    "import shutil\n",
    "\n",
    "def create_new_blog(title,content, cover_image):\n",
    "    cover_image = Path(cover_image)\n",
    "    \n",
    "    # getting the number of html files in the location\n",
    "    files = len(list(Path_to_Content.glob(\"*.html\")))\n",
    "    \n",
    "    new_title = f\"{files+1}.html\"\n",
    "    path_to_new_content = Path_to_Content/new_title\n",
    "    \n",
    "    shutil.copy(cover_image, Path_to_Content)\n",
    "    \n",
    "    if not os.path.exists(path_to_new_content):\n",
    "        #Write a new html file\n",
    "        \n",
    "    else\n",
    "        raise FileExistsError(\"File already exists, please check again your name! Aborting!\")\n",
    "        \n",
    "        \n",
    "        \n",
    "        \n",
    "        \n",
    "        \n",
    "    \n",
    "    \n",
    "    \n",
    "    "
   ]
  }
 ],
 "metadata": {
  "kernelspec": {
   "display_name": "Python 3",
   "language": "python",
   "name": "python3"
  },
  "language_info": {
   "codemirror_mode": {
    "name": "ipython",
    "version": 3
   },
   "file_extension": ".py",
   "mimetype": "text/x-python",
   "name": "python",
   "nbconvert_exporter": "python",
   "pygments_lexer": "ipython3",
   "version": "3.8.8"
  }
 },
 "nbformat": 4,
 "nbformat_minor": 5
}
