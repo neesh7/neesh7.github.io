{
 "cells": [
  {
   "cell_type": "code",
   "execution_count": 2,
   "id": "95bb5281",
   "metadata": {},
   "outputs": [],
   "source": [
    "import os \n",
    "import openai\n",
    "from git import Repo # to use git inside python\n",
    "from pathlib import Path # to set paths properly "
   ]
  },
  {
   "cell_type": "code",
   "execution_count": 3,
   "id": "688c8e4f",
   "metadata": {},
   "outputs": [
    {
     "data": {
      "text/plain": [
       "'D:\\\\OpenAI\\\\05-Automatic Blog Post\\\\neesh7.github.io'"
      ]
     },
     "execution_count": 3,
     "metadata": {},
     "output_type": "execute_result"
    }
   ],
   "source": [
    "pwd"
   ]
  },
  {
   "cell_type": "code",
   "execution_count": 8,
   "id": "7a4e90c5",
   "metadata": {},
   "outputs": [],
   "source": [
    "Path_to_Blog_Repo = Path(\"D:\\\\OpenAI\\\\05-Automatic Blog Post\\\\neesh7.github.io\\\\.git\")"
   ]
  },
  {
   "cell_type": "code",
   "execution_count": 9,
   "id": "0fbf1a82",
   "metadata": {},
   "outputs": [],
   "source": [
    "# Path were index.html sits\n",
    "Path_to_Blog = Path_to_Blog_Repo.parent"
   ]
  },
  {
   "cell_type": "code",
   "execution_count": 10,
   "id": "5624e350",
   "metadata": {},
   "outputs": [],
   "source": [
    "#folder where we are going to create blog post will be content \n",
    "Path_to_Content = Path_to_Blog/\"content\""
   ]
  },
  {
   "cell_type": "code",
   "execution_count": 11,
   "id": "b09e6f99",
   "metadata": {},
   "outputs": [
    {
     "data": {
      "text/plain": [
       "WindowsPath('D:/OpenAI/05-Automatic Blog Post/neesh7.github.io/content')"
      ]
     },
     "execution_count": 11,
     "metadata": {},
     "output_type": "execute_result"
    }
   ],
   "source": [
    "Path_to_Content"
   ]
  },
  {
   "cell_type": "code",
   "execution_count": 12,
   "id": "775328d3",
   "metadata": {},
   "outputs": [],
   "source": [
    "#creating that content folder \n",
    "Path_to_Content.mkdir(exist_ok =True, parents=True)"
   ]
  },
  {
   "cell_type": "code",
   "execution_count": 19,
   "id": "b7e3a536",
   "metadata": {},
   "outputs": [],
   "source": [
    "# updating the blog function\n",
    "def update_blog(commit_message = 'Updates blog'):\n",
    "    # Gitpython Repo location\n",
    "    repo = Repo(Path_to_Blog_Repo)\n",
    "    #git add\n",
    "    repo.git.add(all=True)\n",
    "    #git commit -m \"Update blog\"\n",
    "    repo.index.commit(commit_message)\n",
    "    #git push \n",
    "    origin = repo.remote(name= 'origin')\n",
    "    origin.push()"
   ]
  },
  {
   "cell_type": "code",
   "execution_count": 20,
   "id": "5eff5ad1",
   "metadata": {},
   "outputs": [],
   "source": [
    "html_string = \"<h1>I am groot groot !</h1>\""
   ]
  },
  {
   "cell_type": "code",
   "execution_count": 21,
   "id": "b86b946a",
   "metadata": {},
   "outputs": [],
   "source": [
    "#opening index.html file and updating it with html_string\n",
    "with open(Path_to_Blog/\"index.html\",'w') as f:\n",
    "    f.write(html_string)"
   ]
  },
  {
   "cell_type": "code",
   "execution_count": 27,
   "id": "aaddc01a",
   "metadata": {},
   "outputs": [],
   "source": [
    "update_blog(\"This is my third commit\")"
   ]
  },
  {
   "cell_type": "code",
   "execution_count": 24,
   "id": "15a664e6",
   "metadata": {},
   "outputs": [],
   "source": [
    "import shutil\n",
    "\n",
    "def create_new_blog(title,content, cover_image):\n",
    "    cover_image = Path(cover_image)\n",
    "    \n",
    "    # getting the number of html files in the location\n",
    "    files = len(list(Path_to_Content.glob(\"*.html\")))\n",
    "    \n",
    "    # 1.html or 2.html so on below line will create something name like this\n",
    "    new_title = f\"{files+1}.html\"\n",
    "    path_to_new_content = Path_to_Content/new_title\n",
    "    \n",
    "    shutil.copy(cover_image, Path_to_Content)\n",
    "    \n",
    "    if not os.path.exists(path_to_new_content):\n",
    "        #Write a new html file\n",
    "        with open(path_to_new_content, \"w\") as f:\n",
    "            f.write(\"<!DOCTYPE html>\\n\")\n",
    "            f.write(\"<html>\\n\")\n",
    "            f.write(\"<head>\\n\")\n",
    "            f.write(f\"<title> {title} </title>\\n\")\n",
    "            f.write(\"</head>\\n\")\n",
    "            \n",
    "            f.write(\"<body>\\n\")\n",
    "            f.write(f\"<img src='{cover_image.name}' alt='Cover Image'> <br />\\n\")\n",
    "            f.write(f\"<h1> {title} </h1>\")\n",
    "            # OpenAI --> Completion GPT --> \"hello\\nblogpost\\n\" so we want take this response and convert \\n into line breaks as this is html\n",
    "            f.write(content.replace(\"\\n\", \"<br />\\n\"))\n",
    "            f.write(\"</body>\\n\")\n",
    "            f.write(\"</html>\\n\")\n",
    "            print(\"Blog created\")\n",
    "            return path_to_new_content\n",
    "        \n",
    "    else:\n",
    "        raise FileExistsError(\"File already exists, please check again your name! Aborting!\")\n",
    "        \n",
    "        \n",
    "        \n",
    "        \n",
    "        \n",
    "        \n",
    "    \n",
    "    \n",
    "    \n",
    "    "
   ]
  },
  {
   "cell_type": "code",
   "execution_count": 28,
   "id": "97efe845",
   "metadata": {},
   "outputs": [
    {
     "name": "stdout",
     "output_type": "stream",
     "text": [
      "Blog created\n"
     ]
    }
   ],
   "source": [
    "# checking if the above logic works\n",
    "path_to_new_content = create_new_blog('Groot','I am Grooooooooot !!!!', 'groot.png')"
   ]
  },
  {
   "cell_type": "code",
   "execution_count": null,
   "id": "e9b6aa4b",
   "metadata": {},
   "outputs": [],
   "source": []
  }
 ],
 "metadata": {
  "kernelspec": {
   "display_name": "Python 3",
   "language": "python",
   "name": "python3"
  },
  "language_info": {
   "codemirror_mode": {
    "name": "ipython",
    "version": 3
   },
   "file_extension": ".py",
   "mimetype": "text/x-python",
   "name": "python",
   "nbconvert_exporter": "python",
   "pygments_lexer": "ipython3",
   "version": "3.8.8"
  }
 },
 "nbformat": 4,
 "nbformat_minor": 5
}
