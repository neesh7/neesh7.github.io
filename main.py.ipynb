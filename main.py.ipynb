{
 "cells": [
  {
   "cell_type": "code",
   "execution_count": 2,
   "id": "c9b83096",
   "metadata": {},
   "outputs": [],
   "source": [
    "import os \n",
    "import openai\n",
    "from git import Repo # to use git inside python\n",
    "from pathlib import Path # to set paths properly "
   ]
  },
  {
   "cell_type": "code",
   "execution_count": 3,
   "id": "97fcc661",
   "metadata": {},
   "outputs": [
    {
     "data": {
      "text/plain": [
       "'D:\\\\OpenAI\\\\05-Automatic Blog Post\\\\neesh7.github.io'"
      ]
     },
     "execution_count": 3,
     "metadata": {},
     "output_type": "execute_result"
    }
   ],
   "source": [
    "pwd"
   ]
  },
  {
   "cell_type": "code",
   "execution_count": 8,
   "id": "17484683",
   "metadata": {},
   "outputs": [],
   "source": [
    "Path_to_Blog_Repo = Path(\"D:\\\\OpenAI\\\\05-Automatic Blog Post\\\\neesh7.github.io\\\\.git\")"
   ]
  },
  {
   "cell_type": "code",
   "execution_count": 9,
   "id": "b670cbf1",
   "metadata": {},
   "outputs": [],
   "source": [
    "# Path were index.html sits\n",
    "Path_to_Blog = Path_to_Blog_Repo.parent"
   ]
  },
  {
   "cell_type": "code",
   "execution_count": 10,
   "id": "096764c9",
   "metadata": {},
   "outputs": [],
   "source": [
    "#folder where we are going to create blog post will be content \n",
    "Path_to_Content = Path_to_Blog/\"content\""
   ]
  },
  {
   "cell_type": "code",
   "execution_count": 11,
   "id": "4232927a",
   "metadata": {},
   "outputs": [
    {
     "data": {
      "text/plain": [
       "WindowsPath('D:/OpenAI/05-Automatic Blog Post/neesh7.github.io/content')"
      ]
     },
     "execution_count": 11,
     "metadata": {},
     "output_type": "execute_result"
    }
   ],
   "source": [
    "Path_to_Content"
   ]
  },
  {
   "cell_type": "code",
   "execution_count": 12,
   "id": "0c698aa9",
   "metadata": {},
   "outputs": [],
   "source": [
    "#creating that content folder \n",
    "Path_to_Content.mkdir(exist_ok =True, parents=True)"
   ]
  },
  {
   "cell_type": "code",
   "execution_count": 14,
   "id": "14133916",
   "metadata": {},
   "outputs": [],
   "source": [
    "# updating the blog function\n",
    "def update_blog(commit_messege = 'Updates blog'):\n",
    "    # Gitpython Repo location\n",
    "    repo = Repo(Path_to_Blog_Repo)\n",
    "    #git add\n",
    "    repo.git.add(all=True)\n",
    "    #git commit -m \"Update blog\"\n",
    "    repo.index.commit(commit_message)\n",
    "    #git push \n",
    "    origin = repo.remote(name= 'origin')\n",
    "    origin.push()"
   ]
  },
  {
   "cell_type": "code",
   "execution_count": null,
   "id": "f0d2095c",
   "metadata": {},
   "outputs": [],
   "source": [
    "html_string = \"<h1>I am groot groot !</h1>\""
   ]
  }
 ],
 "metadata": {
  "kernelspec": {
   "display_name": "Python 3",
   "language": "python",
   "name": "python3"
  },
  "language_info": {
   "codemirror_mode": {
    "name": "ipython",
    "version": 3
   },
   "file_extension": ".py",
   "mimetype": "text/x-python",
   "name": "python",
   "nbconvert_exporter": "python",
   "pygments_lexer": "ipython3",
   "version": "3.8.8"
  }
 },
 "nbformat": 4,
 "nbformat_minor": 5
}
